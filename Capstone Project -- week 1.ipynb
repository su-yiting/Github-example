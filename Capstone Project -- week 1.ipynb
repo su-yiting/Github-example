{
 "cells": [
  {
   "cell_type": "markdown",
   "metadata": {},
   "source": [
    "<h1 align=center><font size = 6>Capstone Project -- week 1</font></h1>\n",
    "<h1 align=center><font size = 5>Su Yiping</font></h1>"
   ]
  },
  {
   "cell_type": "markdown",
   "metadata": {},
   "source": [
    " <h1 align=left><font size = 5>This notebook will be mainly used for the capstone project because I need the other secondary skill to finish my capstone project. And I have done the following things in this assignment</font></h1>\n",
    " \n",
    "- Create a new Github account: su-yiting\n",
    "\n",
    "- Create a new repository on my Github account:  Coursera_Capstone\n",
    "\n",
    "- Clone my repository to local: git clone git@github.com:su-yiting/Github-example.git\n",
    "\n",
    "- Create simple Python file using Vim: vim python_code.py\n",
    "\n",
    "- Updating the remote repository or sync-ing it with the local version:\n",
    "    1. Staging the changes: git add python_code.py\n",
    "    2. Committing them: git commit -m ‘adds a python script that prints a message greeting Github’\n",
    "    3. Pushing them to the remote repository: git push --force\n",
    "  \n",
    "- Create the Jupyter Notebook: Capstone Project -- week 1.ipynb"
   ]
  },
  {
   "cell_type": "code",
   "execution_count": 1,
   "metadata": {},
   "outputs": [
    {
     "name": "stdout",
     "output_type": "stream",
     "text": [
      "Hello Capstone Project Course!\n"
     ]
    }
   ],
   "source": [
    "import pandas as pd\n",
    "import numpy as np\n",
    "\n",
    "print ('Hello Capstone Project Course!')"
   ]
  },
  {
   "cell_type": "code",
   "execution_count": null,
   "metadata": {},
   "outputs": [],
   "source": []
  }
 ],
 "metadata": {
  "kernelspec": {
   "display_name": "Python 3",
   "language": "python",
   "name": "python3"
  },
  "language_info": {
   "codemirror_mode": {
    "name": "ipython",
    "version": 3
   },
   "file_extension": ".py",
   "mimetype": "text/x-python",
   "name": "python",
   "nbconvert_exporter": "python",
   "pygments_lexer": "ipython3",
   "version": "3.7.4"
  }
 },
 "nbformat": 4,
 "nbformat_minor": 2
}
